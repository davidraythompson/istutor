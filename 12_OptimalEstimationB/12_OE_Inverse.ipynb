{
 "cells": [
  {
   "cell_type": "markdown",
   "metadata": {},
   "source": [
    "# Exercise: Combining Atmosphere & Surface Inversions \n",
    "\n",
    "David R. Thompson, Jet Propulsion Laboratory, California Institute of Technology<br>\n",
    "Contact: david.r.thompson@jpl.nasa.gov\n",
    "__________\n",
    "\n",
    "This exercise demonstrates combined surface-atmosphere fitting using Optimal Estimation methods as described in Rogers (2000) *Inverse Methods for Atmopsheric Sounding*. First, we import the required software dependencies. You may want to replace the file path below with your own installation of ISOFIT."
   ]
  },
  {
   "cell_type": "code",
   "execution_count": 1,
   "metadata": {},
   "outputs": [],
   "source": [
    "import sys\n",
    "import scipy as s\n",
    "from scipy.interpolate import interp1d\n",
    "\n",
    "sys.path.insert(0, 'isofit/')\n",
    "import isofit\n",
    "\n",
    "from figure_style import *\n",
    "from forward import ForwardModel\n",
    "from geometry import Geometry\n",
    "from inverse import Inversion"
   ]
  },
  {
   "cell_type": "markdown",
   "metadata": {},
   "source": [
    "Define all model components. Our remote observation is the spatial average of a rectangular region comprising 294 spectra, so we include this information in our instrument configuration."
   ]
  },
  {
   "cell_type": "code",
   "execution_count": 10,
   "metadata": {},
   "outputs": [],
   "source": [
    "# Define the instrument\n",
    "instrument_config = {\n",
    "    \"wavelength_file\": \"data/wavelengths.txt\",\n",
    "    \"integrations\": 294,\n",
    "    \"parametric_noise_file\": \"data/avirisng_noise.txt\",\n",
    "    \"unknowns\": {\n",
    "        \"channelized_radiometric_uncertainty_file\": \"data/avirisng_systematic_error.txt\",\n",
    "        \"uncorrelated_radiometric_uncertainty\": 0.0\n",
    "    }\n",
    "}\n",
    "\n",
    "# Define the RTM\n",
    "rtm_config = {\n",
    "    \"lut_path\":\"data/lut/\",\n",
    "    \"wavelength_file\": \"data/wavelengths.txt\",\n",
    "    \"modtran_template_file\":\"data/modtran.json\",\n",
    "    \"domain\": {\n",
    "        \"start\": 350,\n",
    "        \"end\": 2520,\n",
    "        \"step\": 0.1\n",
    "    },\n",
    "    \"statevector\": {\n",
    "        \"H2OSTR\": {\n",
    "            \"bounds\": [1.5, 2.0],\n",
    "            \"scale\": 0.01,\n",
    "            \"init\": 1.75, \n",
    "            \"prior_mean\": 1.75,\n",
    "            \"prior_sigma\": 2.0\n",
    "        },\n",
    "        \"AOT550\": {\n",
    "            \"bounds\": [0.01, 0.1],\n",
    "            \"scale\": 0.01,\n",
    "            \"init\": 0.05, \n",
    "            \"prior_mean\": 0.05,\n",
    "            \"prior_sigma\": 0.1\n",
    "        }\n",
    "    },\n",
    "    \"lut_grid\": {\n",
    "        \"H2OSTR\": [1.5, 2.0],\n",
    "        \"AOT550\": [0.01, 0.1]\n",
    "    },\n",
    "    \"unknowns\": {\n",
    "        \"H2O_ABSCO\": 0.01\n",
    "    },\n",
    "    \"auto_rebuild\": False\n",
    "}\n",
    "\n",
    "# Define the surface\n",
    "surface_config = {\n",
    "    \"surface_file\": \"data/surface.mat\"\n",
    "}\n",
    "\n",
    "# Define the geometry\n",
    "geom = Geometry()\n",
    "\n",
    "# Define the forward model\n",
    "fm_params = {\n",
    "    \"instrument\": instrument_config,\n",
    "    \"multicomponent_surface\": surface_config,\n",
    "    \"modtran_radiative_transfer\": rtm_config\n",
    "}\n",
    "\n",
    "fm = ForwardModel(fm_params)"
   ]
  },
  {
   "cell_type": "markdown",
   "metadata": {},
   "source": [
    "We initialize a new Python object &mdash; an `Inversion`  &mdash; that finds a maximum a posteriori (MAP) solution for the state vector, given our radiance and forward model priors."
   ]
  },
  {
   "cell_type": "code",
   "execution_count": 11,
   "metadata": {},
   "outputs": [],
   "source": [
    "from inverse import Inversion\n",
    "\n",
    "inverse_config = {\n",
    "    \"windows\": [\n",
    "        [ 380.0, 1300.0],\n",
    "        [1450.0, 1780.0],\n",
    "        [1950.0, 2450.0]\n",
    "    ]\n",
    "}\n",
    "\n",
    "iv = Inversion(inverse_config, fm)"
   ]
  },
  {
   "cell_type": "markdown",
   "metadata": {},
   "source": [
    "Load our Beckman Lawn reflectance, and try the inversion."
   ]
  },
  {
   "cell_type": "code",
   "execution_count": 12,
   "metadata": {},
   "outputs": [],
   "source": [
    "# Load data and invert\n",
    "wavelengths, radiance = s.loadtxt('data/beckmanlawn_radiance.txt').T\n",
    "state_trajectory = iv.invert(radiance, geom)\n",
    "state_est = state_trajectory[-1]"
   ]
  },
  {
   "cell_type": "markdown",
   "metadata": {},
   "source": [
    "The inversion object contains a convenient function to interpret the resulting state vector. This gives us the estimated reflectance, best-fitting radiance, path radiance, posterior predictive covariance $\\hat{S}$, Jacobian matrix $K$ and gain matrix $G$. Recall that the Rodgers *et al* (2000) averaging matrix is given by $G*K$."
   ]
  },
  {
   "cell_type": "code",
   "execution_count": 13,
   "metadata": {},
   "outputs": [],
   "source": [
    "# Compute the forward uncertainty and averaging matrix\n",
    "rfl_est, rdn_est, path_est, S_hat, K, G = iv.forward_uncertainty(state_est, radiance, geom)\n",
    "A = s.matmul(G, K)"
   ]
  },
  {
   "cell_type": "markdown",
   "metadata": {},
   "source": [
    "Let's compare our estimate against the measurment we obtained on-site. We need to resample it to the wavelengths used by AVIRIS-NG."
   ]
  },
  {
   "cell_type": "code",
   "execution_count": 14,
   "metadata": {},
   "outputs": [
    {
     "data": {
      "image/png": "[encoded data removed]",
      "text/plain": [
       "<Figure size 432x288 with 1 Axes>"
      ]
     },
     "metadata": {
      "needs_background": "light"
     },
     "output_type": "display_data"
    }
   ],
   "source": [
    "# Load the Beckman Lawn reflectances\n",
    "wl_insitu, rfl_insitu, fwhm = s.loadtxt('data/beckmanlawn_reflectance.txt').T\n",
    "\n",
    "# Linearly interpolate to the target AVIRIS-NG wavelengths\n",
    "wavelengths = fm.surface.wl\n",
    "rfl_insitu = interp1d(wl_insitu, rfl_insitu, bounds_error=False, fill_value='extrapolate')(fm.surface.wl)\n",
    "\n",
    "# Plot\n",
    "plt.plot(wavelengths, rfl_insitu)\n",
    "plt.plot(wavelengths, rfl_est)\n",
    "plt.xlabel('Wavelength (nm)')\n",
    "plt.ylabel('Surface reflectance')\n",
    "plt.title('Beckman Lawn')\n",
    "plt.legend(['In situ measurement','Remote retrieval']);"
   ]
  },
  {
   "cell_type": "markdown",
   "metadata": {},
   "source": [
    "Note that there is a term we have set to zero in our instrument model - the `uncorrelated_radiometric_uncertainty`, which is due mainly to effects such as calibration error.  \n",
    "\n",
    "**Question:** Can we improve the match between the remote and *in situ* reflectances by incorporating this source of uncertianty in our retrievals? What is its optimal value? How does it affect sensitivity to atmospheric parameters?"
   ]
  },
  {
   "cell_type": "markdown",
   "metadata": {},
   "source": [
    "-------------\n",
    "<b>Acknowledgements</b>: A portion of this research was performed at the Jet Propulsion Laboratory, California Institute of Technology. We acknowledge the support of a PRISM AITT grant from the National Aeronautics and Space Administration (NASA) Earth Science Technology Office. We acknowledge the support of the JPL and Caltech Presidents’ and Directors’ Fund Program. We thank other supporting sponsors including the NASA Earth Science Division for the HyspIRI preparatory campaign, the AVIRIS-NG instrument and the data analysis program “Utilization of Airborne Visible/Infrared Imaging Spectrometer Next Generation Data from an Airborne Campaign in India” NNH16ZDA001N-AVRSNG, for its support of the algorithm development; the Jet Propulsion Laboratory Research and Technology Development Program; and the NASA Center Innovation Fund managed in conjunction with the Jet Propulsion Laboratory Office of the Chief Scientist and Technologist. Copyright 2019 California Institute of Technology. US Government Support Acknowledged."
   ]
  },
  {
   "cell_type": "code",
   "execution_count": null,
   "metadata": {},
   "outputs": [],
   "source": []
  }
 ],
 "metadata": {
  "anaconda-cloud": {},
  "kernelspec": {
   "display_name": "Python 3",
   "language": "python",
   "name": "python3"
  },
  "language_info": {
   "codemirror_mode": {
    "name": "ipython",
    "version": 3
   },
   "file_extension": ".py",
   "mimetype": "text/x-python",
   "name": "python",
   "nbconvert_exporter": "python",
   "pygments_lexer": "ipython3",
   "version": "3.7.3"
  },
  "latex_envs": {
   "LaTeX_envs_menu_present": true,
   "autoclose": false,
   "autocomplete": true,
   "bibliofile": "biblio.bib",
   "cite_by": "apalike",
   "current_citInitial": 1,
   "eqLabelWithNumbers": true,
   "eqNumInitial": 1,
   "hotkeys": {
    "equation": "Ctrl-E",
    "itemize": "Ctrl-I"
   },
   "labels_anchors": false,
   "latex_user_defs": false,
   "report_style_numbering": false,
   "user_envs_cfg": false
  }
 },
 "nbformat": 4,
 "nbformat_minor": 1
}
